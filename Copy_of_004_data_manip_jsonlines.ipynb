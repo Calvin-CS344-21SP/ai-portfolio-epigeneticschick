{
  "nbformat": 4,
  "nbformat_minor": 0,
  "metadata": {
    "kernelspec": {
      "display_name": "Python 3",
      "language": "python",
      "name": "python3"
    },
    "language_info": {
      "codemirror_mode": {
        "name": "ipython",
        "version": 3
      },
      "file_extension": ".py",
      "mimetype": "text/x-python",
      "name": "python",
      "nbconvert_exporter": "python",
      "pygments_lexer": "ipython3",
      "version": "3.8.5"
    },
    "colab": {
      "name": "Copy of 004-data-manip-jsonlines.ipynb",
      "provenance": [],
      "collapsed_sections": [],
      "include_colab_link": true
    },
    "accelerator": "GPU"
  },
  "cells": [
    {
      "cell_type": "markdown",
      "metadata": {
        "id": "view-in-github",
        "colab_type": "text"
      },
      "source": [
        "<a href=\"https://colab.research.google.com/github/Calvin-CS344-21SP/ai-portfolio-epigeneticschick/blob/main/Copy_of_004_data_manip_jsonlines.ipynb\" target=\"_parent\"><img src=\"https://colab.research.google.com/assets/colab-badge.svg\" alt=\"Open In Colab\"/></a>"
      ]
    },
    {
      "cell_type": "markdown",
      "metadata": {
        "id": "p_bPC9F-9s_V"
      },
      "source": [
        "# `004-data-manip-jsonlines`\n",
        "\n",
        "Task: use list and dict comprehensions to work with data stored as newline-delimited JSON"
      ]
    },
    {
      "cell_type": "markdown",
      "metadata": {
        "id": "_e2GAhOc9s_a"
      },
      "source": [
        "## Setup"
      ]
    },
    {
      "cell_type": "code",
      "metadata": {
        "id": "23bW8wZ99s_a"
      },
      "source": [
        "import json\n",
        "import requests\n",
        "from collections import Counter"
      ],
      "execution_count": null,
      "outputs": []
    },
    {
      "cell_type": "markdown",
      "metadata": {
        "id": "fOB9aiVO9s_b"
      },
      "source": [
        "## Task"
      ]
    },
    {
      "cell_type": "markdown",
      "metadata": {
        "id": "Ra0iYtMp9s_b"
      },
      "source": [
        "As you discovered on Homework 1, preparing data is often a key and tedious component of model training. Here we'll practice a few basic data prep tasks. Large datasets often use streaming file formats like ndjson aka JSONL, so we'll practice with a (small) dataset in that format."
      ]
    },
    {
      "cell_type": "code",
      "metadata": {
        "id": "aee-cj-W9s_b"
      },
      "source": [
        "url = 'https://raw.githubusercontent.com/jsonlines/guide/master/datagov100.json'"
      ],
      "execution_count": 1,
      "outputs": []
    },
    {
      "cell_type": "markdown",
      "metadata": {
        "id": "J5Pgne7g9s_b"
      },
      "source": [
        "1. Load the data. Remove `tags` and `extras` as you read it in, since these are large data structures that we don't need. (You can use `del dct[key]` to remove a key from a dictionary.)\n",
        "1. What is the most common `license_title` for these datasets? (use `Counter`, imported above from the `collections` module, with a list comprehension). *you should get 'U.S. Government Work'*\n",
        "2. What is the average number of `resources` for each dataset? (use `len(dataset['resources'])` in a list comprehension. *you should get 1.36*\n",
        "3. Create a dictionary mapping the title of the dataset to the `url` of the first resource listed. (use a dict comprehension). Skip datasets with no resources. Use this dict to find the URL of `'Geologic map of Arkansas (NGMDB)'`."
      ]
    },
    {
      "cell_type": "markdown",
      "metadata": {
        "id": "zSUkSqiu9s_c"
      },
      "source": [
        "## Solution"
      ]
    },
    {
      "cell_type": "code",
      "metadata": {
        "id": "n4aXwlAk9s_c"
      },
      "source": [
        "import json\n",
        "import ast"
      ],
      "execution_count": 2,
      "outputs": []
    },
    {
      "cell_type": "code",
      "metadata": {
        "id": "AZZ1VWjj9s_c",
        "colab": {
          "base_uri": "https://localhost:8080/",
          "height": 231
        },
        "outputId": "ca2bc07f-c910-4cb3-da1a-fb40ae3e1372"
      },
      "source": [
        "# Here's how to stream a JSONL from a URL one line at a time\n",
        "data_list = []\n",
        "response = requests.get(url, stream=True)\n",
        "for line in response.iter_lines():\n",
        "    byte_str =line\n",
        "    dict_str = byte_str.decode(\"UTF-8\")\n",
        "    mydata = ast.literal_eval(repr(dict_str))\n",
        "    mydict = json.loads(mydata)\n",
        "    del mydict[\"tags\"]\n",
        "    del mydict[\"extras\"]\n",
        "    print(mydict)\n",
        "    data_list.append(mydict)"
      ],
      "execution_count": 3,
      "outputs": [
        {
          "output_type": "error",
          "ename": "NameError",
          "evalue": "ignored",
          "traceback": [
            "\u001b[0;31m---------------------------------------------------------------------------\u001b[0m",
            "\u001b[0;31mNameError\u001b[0m                                 Traceback (most recent call last)",
            "\u001b[0;32m<ipython-input-3-ef5e23e481a8>\u001b[0m in \u001b[0;36m<module>\u001b[0;34m()\u001b[0m\n\u001b[1;32m      1\u001b[0m \u001b[0;31m# Here's how to stream a JSONL from a URL one line at a time\u001b[0m\u001b[0;34m\u001b[0m\u001b[0;34m\u001b[0m\u001b[0;34m\u001b[0m\u001b[0m\n\u001b[1;32m      2\u001b[0m \u001b[0mdata_list\u001b[0m \u001b[0;34m=\u001b[0m \u001b[0;34m[\u001b[0m\u001b[0;34m]\u001b[0m\u001b[0;34m\u001b[0m\u001b[0;34m\u001b[0m\u001b[0m\n\u001b[0;32m----> 3\u001b[0;31m \u001b[0mresponse\u001b[0m \u001b[0;34m=\u001b[0m \u001b[0mrequests\u001b[0m\u001b[0;34m.\u001b[0m\u001b[0mget\u001b[0m\u001b[0;34m(\u001b[0m\u001b[0murl\u001b[0m\u001b[0;34m,\u001b[0m \u001b[0mstream\u001b[0m\u001b[0;34m=\u001b[0m\u001b[0;32mTrue\u001b[0m\u001b[0;34m)\u001b[0m\u001b[0;34m\u001b[0m\u001b[0;34m\u001b[0m\u001b[0m\n\u001b[0m\u001b[1;32m      4\u001b[0m \u001b[0;32mfor\u001b[0m \u001b[0mline\u001b[0m \u001b[0;32min\u001b[0m \u001b[0mresponse\u001b[0m\u001b[0;34m.\u001b[0m\u001b[0miter_lines\u001b[0m\u001b[0;34m(\u001b[0m\u001b[0;34m)\u001b[0m\u001b[0;34m:\u001b[0m\u001b[0;34m\u001b[0m\u001b[0;34m\u001b[0m\u001b[0m\n\u001b[1;32m      5\u001b[0m     \u001b[0mbyte_str\u001b[0m \u001b[0;34m=\u001b[0m\u001b[0mline\u001b[0m\u001b[0;34m\u001b[0m\u001b[0;34m\u001b[0m\u001b[0m\n",
            "\u001b[0;31mNameError\u001b[0m: name 'requests' is not defined"
          ]
        }
      ]
    },
    {
      "cell_type": "code",
      "metadata": {
        "id": "uPZLOwJeE2qX"
      },
      "source": [
        "license_list =[]\n",
        "for item in data_list:\n",
        "  if item[\"license_title\"] == None or isinstance(item['license_title'], list):\n",
        "    pass \n",
        "  else:\n",
        "    license_list.append(item[\"license_title\"])\n",
        "    "
      ],
      "execution_count": null,
      "outputs": []
    },
    {
      "cell_type": "code",
      "metadata": {
        "colab": {
          "base_uri": "https://localhost:8080/"
        },
        "id": "Vwg-4no7_9FX",
        "outputId": "70f48949-3d09-4546-f691-a9dd06f481c0"
      },
      "source": [
        "\n",
        "c = Counter(license_list)\n",
        "print(c)\n",
        "\n"
      ],
      "execution_count": null,
      "outputs": [
        {
          "output_type": "stream",
          "text": [
            "Counter({'U.S. Government Work': 15, 'Creative Commons CCZero': 8, 'Other License Specified': 8})\n"
          ],
          "name": "stdout"
        }
      ]
    },
    {
      "cell_type": "code",
      "metadata": {
        "colab": {
          "base_uri": "https://localhost:8080/"
        },
        "id": "ihnAlub0Ja9N",
        "outputId": "ea7d2efd-e56b-4cdd-ae2d-02929ec4805a"
      },
      "source": [
        "count = 0\n",
        "for item in data_list:\n",
        "  count += len(item[\"resources\"])\n",
        "print(count/len(data_list))"
      ],
      "execution_count": null,
      "outputs": [
        {
          "output_type": "stream",
          "text": [
            "1.36\n"
          ],
          "name": "stdout"
        }
      ]
    },
    {
      "cell_type": "code",
      "metadata": {
        "colab": {
          "base_uri": "https://localhost:8080/"
        },
        "id": "evRX5ej8KbFs",
        "outputId": "c6e12067-9ce8-4bf8-de57-c29b31578dfa"
      },
      "source": [
        "title_dict={}\n",
        "for item in data_list:\n",
        "  title_dict[item['title']] = item['url']\n",
        "print(title_dict)\n"
      ],
      "execution_count": null,
      "outputs": [
        {
          "output_type": "stream",
          "text": [
            "{'VA National Formulary': None, 'SAFER - Company Snapshot - SAFER - Company Snapshot': None, 'Fatality Analysis Reporting System ( FARS ) - Online Query Tool': None, 'TIGER/Line Shapefile, 2013,  state, Alabama, Current County Subdivision State-based': None, 'TIGER/Line Shapefile, 2013,  state, Virginia, Current County Subdivision State-based': None, 'National Motor Vehicle Crash Causation Survey (NMVCCS) - NMVCCS XML Case Viewer': None, 'TIGER/Line Shapefile, 2013,  state, Texas, Current County Subdivision State-based': None, 'TIGER/Line Shapefile, 2012, state, Georgia, Current County Subdivision State-based': None, 'TIGER/Line Shapefile, 2013,  state, Illinois, Current Place': None, 'TIGER/Line Shapefile, 2013,  state, California, Current Place': None, 'TIGER/Line Shapefile, 2012, state, Ohio, Current County Subdivision State-based': None, 'TIGER/Line Shapefile, 2013,  state, Georgia, Primary and Secondary Roads State-based Shapefile': None, 'Federal Railroad Administration GIS Web Mapping Application': None, 'TIGER/Line Shapefile, 2013,  state, New York, Primary and Secondary Roads State-based Shapefile': None, 'TIGER/Line Shapefile, 2013,  state, California, Primary and Secondary Roads State-based Shapefile': None, 'General Schedule and Locality Pay, 1985-1986': None, 'TIGER/Line Shapefile, 2013,  county, Cook County, IL, All Roads County-based Shapefile': None, 'TIGER/Line Shapefile, 2016,  state, Michigan, Current Census Tract State-based': None, \"NHTSA's Office of Defects Investigation (ODI) - Complaints - NHTSA API\": None, 'TIGER/Line Shapefile, 2013,  state, Louisiana, Current County Subdivision State-based': None, 'Airport Status Web Service': None, 'USGS US Topo 7.5-minute map for Chattanooga, TN 2013': None, 'Bedrock geologic map of a portion of the Philadelphia quadrangle, Montgomery and Philadelphia Counties, Pennsylvania (NGMDB)': None, 'SAFER - Out of Service Orders - FMCSA Out of Service Orders': None, 'TIGER/Line Shapefile, 2014, nation, U.S., 114th Congressional District National Shapefile': None, 'TIGER/Line Shapefile, 2012, state, Colorado, Current County Subdivision State-based': None, 'TIGER/Line Shapefile, 2013,  state, Virginia, Primary and Secondary Roads State-based Shapefile': None, 'A digital geologic map database for the State of Oklahoma (NGMDB)': None, 'TIGER/Line Shapefile, 2013,  state, Texas, Primary and Secondary Roads State-based Shapefile': None, 'Data.gov Dataset Visitor Metrics': None, 'VA Drug Pricing Database': None, 'General Schedule and Locality Pay, 1993': None, 'TIGER/Line Shapefile, 2013,  state, Colorado, Primary and Secondary Roads State-based Shapefile': None, 'TIGER/Line Shapefile, 2013,  state, Arizona, Primary and Secondary Roads State-based Shapefile': None, 'TIGER/Line Shapefile, 2013,  state, North Carolina, Current County Subdivision State-based': None, 'USGS NED 1/3 arc-second Contours for Chicago W, Illinois 20160315 1 x 1 degree Shapefile': None, 'General Schedule and Locality Pay, February 1990': None, 'TIGER/Line Shapefile, 2013,  state, Illinois, Primary and Secondary Roads State-based Shapefile': None, 'TIGER/Line Shapefile, 2013,  state, Maryland, Primary and Secondary Roads State-based Shapefile': None, 'TIGER/Line Shapefile, 2013,  state, South Carolina, Current County Subdivision State-based': None, 'General Schedule and Locality Pay, 1980': None, 'VA National Drug File': None, 'TIGER/Line Shapefile, 2013,  state, Pennsylvania, Primary and Secondary Roads State-based Shapefile': None, 'USGS NED one meter x55y449 NJ SdL5 2014 IMG 2015': None, 'TIGER/Line Shapefile, 2015,  county, Bucks County, PA, All Lines County-based Shapefile': None, 'Geologic map of Arkansas (NGMDB)': None, 'Web Enabled Approval Management System (WEAMS) school search website': None, 'TIGER/Line Shapefile, 2013,  state, Indiana, Primary and Secondary Roads State-based Shapefile': None, 'TIGER/Line Shapefile, 2013,  state, Missouri, Current County Subdivision State-based': None, 'TIGER/Line Shapefile, 2013,  state, New Hampshire, Current County Subdivision State-based': None, 'TIGER/Line Shapefile, 2013,  state, Pennsylvania, Current Census Tract State-based': None, 'TIGER/Line Shapefile, 2013,  state, Michigan, Current Place': None, 'TIGER/Line Shapefile, 2012, state, Kentucky, Current County Subdivision State-based': None, 'TIGER/Line Shapefile, 2013,  state, Indiana, Current County Subdivision State-based': None, 'TIGER/Line Shapefile, 2013,  county, St. Louis city, MO, Current Address Range-Feature Name Relationship File': None, 'PIERS Shipping Information - U.S. Waterborne Foreign Trade by Trading Partners': None, 'TIGER/Line Shapefile, 2012, county, Dallas County, TX, Current Topological Faces (Polygons With All Geocodes) Shapefile': None, 'NSF GRFP Awardees and Honorable Mentions Web API': None, 'Motor Carrier Compliance Reviews and Safety Audits - Data Mining Tool': None, 'TIGER/Line Shapefile, 2013,  state, Tennessee, Primary and Secondary Roads State-based Shapefile': None, 'TIGER/Line Shapefile, 2012, state, Maryland, Current County Subdivision State-based': None, 'General Schedule and Locality Pay, 1989': None, 'TIGER/Line Shapefile, 2013,  state, Colorado, Current County Subdivision State-based': None, 'Vehicle Safety Research and Development Database - Vehicle Test Query by Vehicle Barrier Parameters': None, 'North American Transportation Statistics Database - Data Mining Tool': None, 'USGS US Topo 7.5-minute map for Cumberland Island North, GA 2011': None, 'Geologic map of Oregon (NGMDB)': None, 'TIGER/Line Shapefile, 2013,  state, Oklahoma, Primary and Secondary Roads State-based Shapefile': None, 'TIGER/Line Shapefile, 2011, 2010 state, New York, 2010 Census Traffic Analysis Zone (TAZ) State-based Shapefile': None, 'TIGER/Line Shapefile, 2013,  state, Wyoming, Primary and Secondary Roads State-based Shapefile': None, 'TIGER/Line Shapefile, 2013,  state, Tennessee, Current County Subdivision State-based': None, 'TIGER/Line Shapefile, 2013,  state, Minnesota, Current County Subdivision State-based': None, 'Surface Transportation Board Decisions and Notices': None, 'TIGER/Line Shapefile, 2012, state, Florida, Current Census Tract State-based': None, 'USGS National Boundary Dataset (NBD) for South CarolinaSouth Carolina 20161028 State or Territory Shapefile': None, 'TIGER/Line Shapefile, 2012, county, Oklahoma County, OK, Current All Lines Shapefile': None, 'ALJ Disposition Data Current Report': None, 'TIGER/Line Shapefile, 2013,  state, Texas, Current Place': None, 'TIGER/Line Shapefile, 2013,  county, Wayne County, MI, All Roads County-based Shapefile': None, 'NLCD 2011 Land Cover Conterminous United States': None, 'TIGER/Line Shapefile, 2013,  state, District of Columbia, Primary and Secondary Roads State-based Shapefile': None, 'TIGER/Line Shapefile, 2013,  state, Minnesota, Current Place': None, 'TIGER/Line\\n                     Shapefile, 2013, state, Washington, Current Unified School Districts\\n                     Shapefile': None, 'TIGER/Line Shapefile, 2014, county, Santa Clara County, CA, All Roads County-based Shapefile': None, 'TIGER/Line Shapefile, 2012, county, Los Angeles County, CA, All Roads County-based Shapefile': None, 'Fatality Analysis Reporting System ( FARS ) - FTP Raw Data': None, 'TIGER/Line Shapefile, 2013,  state, New York, Current Census Tract State-based': None, 'USGS US Topo 7.5-minute map for White Tank Mountains, AZ 2011': None, 'TIGER/Line Shapefile, 2013,  state, Wisconsin, Primary and Secondary Roads State-based Shapefile': None, 'TIGER/Line Shapefile, 2013,  state, North Dakota, Current County Subdivision State-based': None, 'TIGER/Line Shapefile, 2013,  state, Alabama, Primary and Secondary Roads State-based Shapefile': None, 'TIGER/Line Shapefile, 2013,  state, New York, Current Block Group State-based': None, 'FedScope Employment Cube, June 2014': None, 'General Schedule and Locality Pay, 1999': None, 'General Schedule and Locality Pay, 1997': None, 'e-Buy Awards for Fiscal Year 2016': None, 'TIGER/Line Shapefile, 2012, state, New Jersey, Current County Subdivision State-based': None, 'VA Benefits -Disability Compensation for Individual Unemployability': None, 'TIGER/Line Shapefile, 2013,  state, Wyoming, Current Place': None}\n"
          ],
          "name": "stdout"
        }
      ]
    }
  ]
}