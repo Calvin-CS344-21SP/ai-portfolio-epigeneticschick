{
  "nbformat": 4,
  "nbformat_minor": 0,
  "metadata": {
    "colab": {
      "name": "Copy of Estimating Proportions - broken.ipynb",
      "provenance": [],
      "collapsed_sections": []
    },
    "kernelspec": {
      "display_name": "Python 3",
      "language": "python",
      "name": "python3"
    },
    "language_info": {
      "codemirror_mode": {
        "name": "ipython",
        "version": 3
      },
      "file_extension": ".py",
      "mimetype": "text/x-python",
      "name": "python",
      "nbconvert_exporter": "python",
      "pygments_lexer": "ipython3",
      "version": "3.8.5"
    }
  },
  "cells": [
    {
      "cell_type": "markdown",
      "metadata": {
        "id": "kN39Qo0qslQB"
      },
      "source": [
        "# Lab 03: Estimate proportions using SGD\n",
        "\n",
        "Task: Debug some code to use stochastic gradient descent to estimate two proportions."
      ]
    },
    {
      "cell_type": "markdown",
      "metadata": {
        "id": "eo7fgMAKsqUQ"
      },
      "source": [
        "# Scenario\n",
        "\n",
        "Suppose I have two boxes (A and B), each of which have a bunch of small beads in them. Peeking inside, it looks like there are 3 different colors of beads (red, orange, and yellow), but the two boxes have very different colors.\n",
        "\n",
        "Each box has a lever on it. When I push the lever, a bead comes out of the box. (We can assume it's a random one, and we'll put the bead back in the box it came from so we don't lose beads.)\n",
        "\n",
        "My friend suggests we play a game: they'll pick a box and press the lever a few times; I have to guess what color beads are going to come out. But I complain that I'm never going to be able to guess 100% correctly, since the boxes have mixtures of beads in them. So here's what they propose: I can spread out my one guess among the different colors, e.g., 0.5 for red and 0.25 for orange or yellow--as long as they add up to 1. Okay...sounds good?\n",
        "\n",
        "Even though there's no way I could count the number of each color bead in each box (way too many!), I think I can do well at this game after a few rounds. What do you think?"
      ]
    },
    {
      "cell_type": "markdown",
      "metadata": {
        "id": "AJ6GSexYu9Fm"
      },
      "source": [
        "## Setup"
      ]
    },
    {
      "cell_type": "code",
      "metadata": {
        "id": "EnYVX26nu_yf"
      },
      "source": [
        "import torch\n",
        "from torch import tensor\n",
        "import matplotlib.pyplot as plt\n",
        "%matplotlib inline\n",
        "torch.manual_seed(10);"
      ],
      "execution_count": 1,
      "outputs": []
    },
    {
      "cell_type": "markdown",
      "metadata": {
        "id": "JtGegbd1DAOh"
      },
      "source": [
        "\n",
        "\n",
        "```\n",
        "# This is formatted as code\n",
        "```\n",
        "\n",
        "### 1. Define the true (hidden) proportions"
      ]
    },
    {
      "cell_type": "markdown",
      "metadata": {
        "id": "HnnH1h0SwF_O"
      },
      "source": [
        "Define the true proportions of the 3 colors in each box."
      ]
    },
    {
      "cell_type": "code",
      "metadata": {
        "id": "CGCl0WOzvCMB"
      },
      "source": [
        "boxes = tensor([\n",
        "    [600, 550, 350],\n",
        "    [100, 1300, 100]\n",
        "]).float()"
      ],
      "execution_count": 2,
      "outputs": []
    },
    {
      "cell_type": "markdown",
      "metadata": {
        "id": "xt2y-H90DAOl"
      },
      "source": [
        "### 2. Define how we're going to get observations."
      ]
    },
    {
      "cell_type": "markdown",
      "metadata": {
        "id": "l_ABqd230kzp"
      },
      "source": [
        "Here's how the friend is going to pick which box. We'll get to see which box they pick."
      ]
    },
    {
      "cell_type": "code",
      "metadata": {
        "colab": {
          "base_uri": "https://localhost:8080/"
        },
        "id": "aoXsqaHv0ias",
        "outputId": "1d149165-c5bb-4e67-8961-c15c5e3afdb6"
      },
      "source": [
        "def pick_box():\n",
        "    return int(torch.rand(1) < .5)\n",
        "pick_box()"
      ],
      "execution_count": 3,
      "outputs": [
        {
          "output_type": "execute_result",
          "data": {
            "text/plain": [
              "1"
            ]
          },
          "metadata": {
            "tags": []
          },
          "execution_count": 3
        }
      ]
    },
    {
      "cell_type": "code",
      "metadata": {
        "colab": {
          "base_uri": "https://localhost:8080/"
        },
        "id": "dBvXMX1XwD--",
        "outputId": "2c2d91b9-ca68-4a80-b070-d857545e9d8c"
      },
      "source": [
        "def draw_beads(box, num_beads):\n",
        "    return torch.multinomial(boxes[box], num_beads, replacement=True)\n",
        "example_beads = draw_beads(box=0, num_beads=5); example_beads"
      ],
      "execution_count": 4,
      "outputs": [
        {
          "output_type": "execute_result",
          "data": {
            "text/plain": [
              "tensor([2, 2, 0, 1, 1])"
            ]
          },
          "metadata": {
            "tags": []
          },
          "execution_count": 4
        }
      ]
    },
    {
      "cell_type": "markdown",
      "metadata": {
        "id": "2b0r5m5MDAOs"
      },
      "source": [
        "# Task"
      ]
    },
    {
      "cell_type": "markdown",
      "metadata": {
        "id": "2JmeJ_YaDAOs"
      },
      "source": [
        "The code below plays this game, but it encounters some major problems: it crashes, and even once you fix the crashes, it still doesn't learn the correct proportions.\n",
        "\n",
        "Debug the code below so that running `get_guesses` gives a good estimate of the true proportions of each color in the given box.\n",
        "\n",
        "**Mathy Notes**:\n",
        "\n",
        "* Guessing the true proportions for each box minimizes the cross-entropy loss between observations and guesses (in expectation). So your loss function should be cross-entropy (the negative log of the probability given to the observed sample).\n",
        "* To ensure that the guesses are valid probability distributions, I recommend you store the *logits* instead of *probabilities*. The `softmax` function turns logits into probabilities. (The `log_softmax` function turns logits into log-probabilities aka logprobs.)"
      ]
    },
    {
      "cell_type": "markdown",
      "metadata": {
        "id": "YpnIgpmzDAOu"
      },
      "source": [
        "# Solution"
      ]
    },
    {
      "cell_type": "markdown",
      "metadata": {
        "id": "bB0C8fqTDAOv"
      },
      "source": [
        "First, let's compute the true proportions: divide the counts (in `boxes`) by the total number of beads in each box. Use `sum`, and pass `keepdim=True`"
      ]
    },
    {
      "cell_type": "code",
      "metadata": {
        "id": "O2IFqJm5DAOw",
        "outputId": "dedac0c0-1283-4f24-9420-fca1ac7f3bfd",
        "colab": {
          "base_uri": "https://localhost:8080/"
        }
      },
      "source": [
        "# your code here\n",
        "# boxes.sum(___)\n",
        "# boxes / _____\n",
        "sum= boxes.sum(axis=1, keepdim=True)\n",
        "boxes/sum\n"
      ],
      "execution_count": 5,
      "outputs": [
        {
          "output_type": "execute_result",
          "data": {
            "text/plain": [
              "tensor([[0.4000, 0.3667, 0.2333],\n",
              "        [0.0667, 0.8667, 0.0667]])"
            ]
          },
          "metadata": {
            "tags": []
          },
          "execution_count": 5
        }
      ]
    },
    {
      "cell_type": "markdown",
      "metadata": {
        "id": "sZfk7i9Kxc6k"
      },
      "source": [
        "### 3. Define how we're going to make a guess"
      ]
    },
    {
      "cell_type": "code",
      "metadata": {
        "colab": {
          "base_uri": "https://localhost:8080/"
        },
        "id": "6D7JBSldyaHj",
        "outputId": "c98e45df-d0c1-486a-c145-f87631742ef8"
      },
      "source": [
        "params = tensor([\n",
        "    [.25, .4, .35],\n",
        "    [1/3, 1/3, 1/3]])\n",
        "def get_guess(box):\n",
        "    guesses_for_box = params[box]\n",
        "    return guesses_for_box.softmax(dim=0) # <-- you will need to change this line to ensure that the result is a valid probability distribution\n",
        "\n",
        "example_guess = get_guess(0); example_guess"
      ],
      "execution_count": 6,
      "outputs": [
        {
          "output_type": "execute_result",
          "data": {
            "text/plain": [
              "tensor([0.3061, 0.3556, 0.3383])"
            ]
          },
          "metadata": {
            "tags": []
          },
          "execution_count": 6
        }
      ]
    },
    {
      "cell_type": "markdown",
      "metadata": {
        "id": "itqoS-XNyrMu"
      },
      "source": [
        "### 4. Define how loss is computed."
      ]
    },
    {
      "cell_type": "markdown",
      "metadata": {
        "id": "bTz2PexmDAO0"
      },
      "source": [
        "We can get the probabilities of the actual beads using an indexing trick. For example:"
      ]
    },
    {
      "cell_type": "code",
      "metadata": {
        "colab": {
          "base_uri": "https://localhost:8080/"
        },
        "id": "AAJNAEu2y_JE",
        "outputId": "4684ca54-e7e7-4600-c832-fa6c812a2849"
      },
      "source": [
        "example_guess[example_beads]"
      ],
      "execution_count": 7,
      "outputs": [
        {
          "output_type": "execute_result",
          "data": {
            "text/plain": [
              "tensor([0.3383, 0.3383, 0.3061, 0.3556, 0.3556])"
            ]
          },
          "metadata": {
            "tags": []
          },
          "execution_count": 7
        }
      ]
    },
    {
      "cell_type": "code",
      "metadata": {
        "colab": {
          "base_uri": "https://localhost:8080/"
        },
        "id": "_-0ChVvIyyaF",
        "outputId": "fb5e9eb0-6cf6-4917-eaec-c9be11d1496d"
      },
      "source": [
        "def compute_loss(guess, beads): # <-- note that this is a \"loss\" (higher = better)... you may want to change it to be a \"loss\" (lower = better).\n",
        "    probs_for_observed_beads = guess[beads]\n",
        "    return -probs_for_observed_beads.log().mean()  # <-- you will need to change this line so that we're using cross-entropy loss\n",
        "compute_loss(example_guess, example_beads)"
      ],
      "execution_count": 8,
      "outputs": [
        {
          "output_type": "execute_result",
          "data": {
            "text/plain": [
              "tensor(1.0839)"
            ]
          },
          "metadata": {
            "tags": []
          },
          "execution_count": 8
        }
      ]
    },
    {
      "cell_type": "markdown",
      "metadata": {
        "id": "uzdFmGMwzdQl"
      },
      "source": [
        "### 5. Use stochastic gradient descent to learn the proportions."
      ]
    },
    {
      "cell_type": "code",
      "metadata": {
        "colab": {
          "base_uri": "https://localhost:8080/",
          "height": 299
        },
        "id": "FTnPPBvizjbk",
        "outputId": "ba4428a1-86e8-42c5-9fbe-4c5a1cfe904f"
      },
      "source": [
        "learning_rate=1e-3\n",
        "batch_size = 1000\n",
        "params = torch.ones((2, 3)) / 3.0\n",
        "params.requires_grad_()\n",
        "\n",
        "losses = []\n",
        "for i in range(5000):\n",
        "    box = pick_box()                       # friend picks a box\n",
        "    my_guess = get_guess(box)              # I make a guess\n",
        "    \n",
        "    # Check that my guess is valid.\n",
        "    assert (my_guess>= 0).all()\n",
        "    assert (my_guess.sum() - 1.0).abs() < .01\n",
        "\n",
        "    beads = draw_beads(box, batch_size)            # friend draws a bunch of beads\n",
        "    loss = compute_loss(my_guess, beads) # friend computes my loss\n",
        "    losses.append(loss.item())\n",
        "\n",
        "    # I figure out how I should have guessed differently\n",
        "    loss.backward()\n",
        "    params.data -= params.grad * learning_rate\n",
        "    params.grad.zero_()\n",
        "\n",
        "# Plot the losss\n",
        "plt.plot(losses, \".\")\n",
        "\n",
        "# Show the proportions. These should be very close to the true proportions.\n",
        "torch.stack([get_guess(box=0), get_guess(box=1)])"
      ],
      "execution_count": 15,
      "outputs": [
        {
          "output_type": "execute_result",
          "data": {
            "text/plain": [
              "tensor([[0.3705, 0.3506, 0.2789],\n",
              "        [0.1748, 0.6502, 0.1750]], grad_fn=<StackBackward>)"
            ]
          },
          "metadata": {
            "tags": []
          },
          "execution_count": 15
        },
        {
          "output_type": "display_data",
          "data": {
            "image/png": "[encoded data removed]",
            "text/plain": [
              "<Figure size 432x288 with 1 Axes>"
            ]
          },
          "metadata": {
            "tags": [],
            "needs_background": "light"
          }
        }
      ]
    }
  ]
}