{
 "cells": [
  {
   "cell_type": "markdown",
   "metadata": {
    "id": "kN39Qo0qslQB"
   },
   "source": [
    "# Lab 03: Estimate proportions using SGD\n",
    "\n",
    "Task: Debug some code to use stochastic gradient descent to estimate two proportions."
   ]
  },
  {
   "cell_type": "markdown",
   "metadata": {
    "id": "eo7fgMAKsqUQ"
   },
   "source": [
    "# Scenario\n",
    "\n",
    "Suppose I have two boxes (A and B), each of which have a bunch of small beads in them. Peeking inside, it looks like there are 3 different colors of beads (red, orange, and yellow), but the two boxes have very different colors.\n",
    "\n",
    "Each box has a lever on it. When I push the lever, a bead comes out of the box. (We can assume it's a random one, and we'll put the bead back in the box it came from so we don't lose beads.)\n",
    "\n",
    "My friend suggests we play a game: they'll pick a box and press the lever a few times; I have to guess what color beads are going to come out. But I complain that I'm never going to be able to guess 100% correctly, since the boxes have mixtures of beads in them. So here's what they propose: I can spread out my one guess among the different colors, e.g., 0.5 for red and 0.25 for orange or yellow--as long as they add up to 1. Okay...sounds good?\n",
    "\n",
    "Even though there's no way I could count the number of each color bead in each box (way too many!), I think I can do well at this game after a few rounds. What do you think?"
   ]
  },
  {
   "cell_type": "markdown",
   "metadata": {
    "id": "AJ6GSexYu9Fm"
   },
   "source": [
    "## Setup"
   ]
  },
  {
   "cell_type": "code",
   "execution_count": null,
   "metadata": {
    "id": "EnYVX26nu_yf"
   },
   "outputs": [],
   "source": [
    "import torch\n",
    "from torch import tensor\n",
    "import matplotlib.pyplot as plt\n",
    "%matplotlib inline\n",
    "torch.manual_seed(10);"
   ]
  },
  {
   "cell_type": "markdown",
   "metadata": {},
   "source": [
    "### 1. Define the true (hidden) proportions"
   ]
  },
  {
   "cell_type": "markdown",
   "metadata": {
    "id": "HnnH1h0SwF_O"
   },
   "source": [
    "Define the true proportions of the 3 colors in each box."
   ]
  },
  {
   "cell_type": "code",
   "execution_count": null,
   "metadata": {
    "id": "CGCl0WOzvCMB"
   },
   "outputs": [],
   "source": [
    "boxes = tensor([\n",
    "    [600, 550, 350],\n",
    "    [100, 1300, 100]\n",
    "]).float()"
   ]
  },
  {
   "cell_type": "markdown",
   "metadata": {},
   "source": [
    "### 2. Define how we're going to get observations."
   ]
  },
  {
   "cell_type": "markdown",
   "metadata": {
    "id": "l_ABqd230kzp"
   },
   "source": [
    "Here's how the friend is going to pick which box. We'll get to see which box they pick."
   ]
  },
  {
   "cell_type": "code",
   "execution_count": null,
   "metadata": {
    "colab": {
     "base_uri": "https://localhost:8080/"
    },
    "id": "aoXsqaHv0ias",
    "outputId": "8e925c60-631a-4eb0-ab2d-24d3d759e59b"
   },
   "outputs": [],
   "source": [
    "def pick_box():\n",
    "    return int(torch.rand(1) < .5)\n",
    "pick_box()"
   ]
  },
  {
   "cell_type": "code",
   "execution_count": null,
   "metadata": {
    "colab": {
     "base_uri": "https://localhost:8080/"
    },
    "id": "dBvXMX1XwD--",
    "outputId": "f0b01228-28dd-4d72-ee9b-222deaccf337"
   },
   "outputs": [],
   "source": [
    "def draw_beads(box, num_beads):\n",
    "    return torch.multinomial(boxes[box], num_beads, replacement=True)\n",
    "example_beads = draw_beads(box=0, num_beads=5); example_beads"
   ]
  },
  {
   "cell_type": "markdown",
   "metadata": {},
   "source": [
    "# Task"
   ]
  },
  {
   "cell_type": "markdown",
   "metadata": {},
   "source": [
    "The code below plays this game, but it encounters some major problems: it crashes, and even once you fix the crashes, it still doesn't learn the correct proportions.\n",
    "\n",
    "Debug the code below so that running `get_guesses` gives a good estimate of the true proportions of each color in the given box.\n",
    "\n",
    "**Mathy Notes**:\n",
    "\n",
    "* Guessing the true proportions for each box minimizes the cross-entropy loss between observations and guesses (in expectation). So your loss function should be cross-entropy (the negative log of the probability given to the observed sample).\n",
    "* To ensure that the guesses are valid probability distributions, I recommend you store the *logits* instead of *probabilities*. The `softmax` function turns logits into probabilities. (The `log_softmax` function turns logits into log-probabilities aka logprobs.)"
   ]
  },
  {
   "cell_type": "markdown",
   "metadata": {},
   "source": [
    "# Solution"
   ]
  },
  {
   "cell_type": "markdown",
   "metadata": {},
   "source": [
    "First, let's compute the true proportions: divide the counts (in `boxes`) by the total number of beads in each box. Use `sum`, and pass `keepdim=True`"
   ]
  },
  {
   "cell_type": "code",
   "execution_count": null,
   "metadata": {},
   "outputs": [],
   "source": [
    "# your code here\n",
    "# boxes.sum(___)\n",
    "# boxes / _____"
   ]
  },
  {
   "cell_type": "markdown",
   "metadata": {
    "id": "sZfk7i9Kxc6k"
   },
   "source": [
    "### 3. Define how we're going to make a guess"
   ]
  },
  {
   "cell_type": "code",
   "execution_count": null,
   "metadata": {
    "colab": {
     "base_uri": "https://localhost:8080/"
    },
    "id": "6D7JBSldyaHj",
    "outputId": "8e34e2c2-e87b-42dd-9a9c-1f8027e14d74"
   },
   "outputs": [],
   "source": [
    "params = tensor([\n",
    "    [.25, .4, .35],\n",
    "    [1/3, 1/3, 1/3]])\n",
    "def get_guess(box):\n",
    "    guesses_for_box = params[box]\n",
    "    return guesses_for_box # <-- you will need to change this line to ensure that the result is a valid probability distribution\n",
    "\n",
    "example_guess = get_guess(0); example_guess"
   ]
  },
  {
   "cell_type": "markdown",
   "metadata": {
    "id": "itqoS-XNyrMu"
   },
   "source": [
    "### 4. Define how score is computed."
   ]
  },
  {
   "cell_type": "markdown",
   "metadata": {},
   "source": [
    "We can get the probabilities of the actual beads using an indexing trick. For example:"
   ]
  },
  {
   "cell_type": "code",
   "execution_count": null,
   "metadata": {
    "colab": {
     "base_uri": "https://localhost:8080/"
    },
    "id": "AAJNAEu2y_JE",
    "outputId": "b91f2150-2601-4432-98a6-d6fc1ead6a2f"
   },
   "outputs": [],
   "source": [
    "example_guess[example_beads]"
   ]
  },
  {
   "cell_type": "code",
   "execution_count": null,
   "metadata": {
    "colab": {
     "base_uri": "https://localhost:8080/"
    },
    "id": "_-0ChVvIyyaF",
    "outputId": "abe14ddd-0b9c-47de-b7cd-f0f15cc6c3d3"
   },
   "outputs": [],
   "source": [
    "def score_guesses(guess, beads): # <-- note that this is a \"score\" (higher = better)... you may want to change it to be a \"loss\" (lower = better).\n",
    "    probs_for_observed_beads = guess[beads]\n",
    "    return probs_for_observed_beads.mean()  # <-- you will need to change this line so that we're using cross-entropy loss\n",
    "score_guesses(example_guess, example_beads)"
   ]
  },
  {
   "cell_type": "markdown",
   "metadata": {
    "id": "uzdFmGMwzdQl"
   },
   "source": [
    "### 5. Use stochastic gradient descent to learn the proportions."
   ]
  },
  {
   "cell_type": "code",
   "execution_count": null,
   "metadata": {
    "colab": {
     "base_uri": "https://localhost:8080/",
     "height": 234
    },
    "id": "FTnPPBvizjbk",
    "outputId": "8334a25f-0a9a-4409-e4d2-d4f85297485a"
   },
   "outputs": [],
   "source": [
    "params = torch.ones((2, 3)) / 3.0\n",
    "params.requires_grad_()\n",
    "\n",
    "scores = []\n",
    "for i in range(50):\n",
    "    box = pick_box()                       # friend picks a box\n",
    "    my_guess = get_guess(box)              # I make a guess\n",
    "    \n",
    "    # Check that my guess is valid.\n",
    "    assert (my_guess > 0).all()\n",
    "    assert (my_guess.sum() - 1.0).abs() < .01\n",
    "\n",
    "    beads = draw_beads(box, 10)            # friend draws a bunch of beads\n",
    "    score = score_guesses(my_guess, beads) # friend computes my score\n",
    "    scores.append(score.item())\n",
    "\n",
    "    # I figure out how I should have guessed differently\n",
    "    score.backward()\n",
    "    params.data -= params.grad\n",
    "\n",
    "# Plot the scores\n",
    "plt.plot(scores)\n",
    "\n",
    "# Show the proportions. These should be very close to the true proportions.\n",
    "torch.stack([get_guess(box=0), get_guess(box=1)])"
   ]
  }
 ],
 "metadata": {
  "colab": {
   "authorship_tag": "ABX9TyOx9N2Sxq25SxMP/tVV6Rbg",
   "collapsed_sections": [],
   "name": "Copy of Estimating Proportions - broken.ipynb",
   "provenance": []
  },
  "kernelspec": {
   "display_name": "Python 3",
   "language": "python",
   "name": "python3"
  },
  "language_info": {
   "codemirror_mode": {
    "name": "ipython",
    "version": 3
   },
   "file_extension": ".py",
   "mimetype": "text/x-python",
   "name": "python",
   "nbconvert_exporter": "python",
   "pygments_lexer": "ipython3",
   "version": "3.8.5"
  }
 },
 "nbformat": 4,
 "nbformat_minor": 4
}
