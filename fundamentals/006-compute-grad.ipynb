{
 "cells": [
  {
   "cell_type": "markdown",
   "metadata": {},
   "source": [
    "# `006-compute-grad`\n",
    "\n",
    "Task: compute the gradient of a function"
   ]
  },
  {
   "cell_type": "markdown",
   "metadata": {},
   "source": [
    "## Setup"
   ]
  },
  {
   "cell_type": "code",
   "execution_count": 1,
   "metadata": {},
   "outputs": [],
   "source": [
    "import torch\n",
    "from torch import tensor\n",
    "import matplotlib.pyplot as plt\n",
    "%matplotlib inline"
   ]
  },
  {
   "cell_type": "markdown",
   "metadata": {},
   "source": [
    "## Task"
   ]
  },
  {
   "cell_type": "markdown",
   "metadata": {},
   "source": [
    "Suppose we have a dataset with just a single feature `x` and continuous outcome variable `y`."
   ]
  },
  {
   "cell_type": "code",
   "execution_count": 2,
   "metadata": {},
   "outputs": [
    {
     "data": {
      "image/png": "[encoded data removed]",
      "text/plain": [
       "<Figure size 432x288 with 1 Axes>"
      ]
     },
     "metadata": {
      "needs_background": "light"
     },
     "output_type": "display_data"
    }
   ],
   "source": [
    "torch.manual_seed(0)\n",
    "x = torch.rand(100)\n",
    "noise = torch.rand_like(x) * .5\n",
    "y_true = 4 * x + noise - 1\n",
    "plt.scatter(x, y_true);"
   ]
  },
  {
   "cell_type": "markdown",
   "metadata": {},
   "source": [
    "Let's fit a line to that!\n",
    "\n",
    "In linear regression, we predict an output by computing `y_pred = weights * x + bias`.\n",
    "We set `weights` and `bias` in a way that minimizes the mean squared error `mse_loss = (y_pred - y_true).pow(2).mean()`.\n",
    "\n",
    "Let's set `weights` and `bias` to some arbitrary values and see what `mse_loss` comes out to be."
   ]
  },
  {
   "cell_type": "code",
   "execution_count": 3,
   "metadata": {},
   "outputs": [
    {
     "data": {
      "text/plain": [
       "tensor(0.3251)"
      ]
     },
     "execution_count": 3,
     "metadata": {},
     "output_type": "execute_result"
    },
    {
     "data": {
      "image/png": "[encoded data removed]",
      "text/plain": [
       "<Figure size 432x288 with 1 Axes>"
      ]
     },
     "metadata": {
      "needs_background": "light"
     },
     "output_type": "display_data"
    }
   ],
   "source": [
    "weights = tensor([3.5])\n",
    "bias = tensor(0.0)\n",
    "y_pred = weights * x + bias\n",
    "plt.scatter(x, y_true); plt.plot(x, y_pred, 'r')\n",
    "mse_loss = (y_pred - y_true).pow(2).mean()\n",
    "mse_loss"
   ]
  },
  {
   "cell_type": "markdown",
   "metadata": {},
   "source": [
    "Let's find what changes we could make to `weights` or `bias` that would reduce `mse_loss`. **Your task**:\n",
    "\n",
    "1. Use PyTorch to compute the gradient of `weights` with respect to `mse_loss`.\n",
    "2. Use that gradient to work out (by hand!) a new fixed value for `weights`.\n",
    "3. Recompute `mse_loss` and see that it does go down. (If it doesn't, reconsider what you did in Step 2.)\n",
    "4. Repeat the 3 steps above for `bias`."
   ]
  },
  {
   "cell_type": "markdown",
   "metadata": {},
   "source": [
    "## Solution"
   ]
  },
  {
   "cell_type": "code",
   "execution_count": 4,
   "metadata": {},
   "outputs": [],
   "source": [
    "# Your code here"
   ]
  },
  {
   "cell_type": "markdown",
   "metadata": {},
   "source": [
    "## Analysis"
   ]
  },
  {
   "cell_type": "markdown",
   "metadata": {},
   "source": [
    "What is the true value of `weights`? Did your first change to `weights` get you closer to that value? Explain."
   ]
  },
  {
   "cell_type": "markdown",
   "metadata": {},
   "source": [
    "## Extension (optional)\n",
    "\n",
    "1. Put the code above in a loop that changes `weights` and `bias` to minimize `mse_loss`.\n",
    "2. What is the minimum value that `mse_loss` could possibly take in this situation?\n",
    "3. Would it be possible to also change `x` or `y` to reduce `mse_loss`? Can you think of a situation where you might want to do that?"
   ]
  }
 ],
 "metadata": {
  "kernelspec": {
   "display_name": "Python 3",
   "language": "python",
   "name": "python3"
  },
  "language_info": {
   "codemirror_mode": {
    "name": "ipython",
    "version": 3
   },
   "file_extension": ".py",
   "mimetype": "text/x-python",
   "name": "python",
   "nbconvert_exporter": "python",
   "pygments_lexer": "ipython3",
   "version": "3.8.5"
  }
 },
 "nbformat": 4,
 "nbformat_minor": 4
}
