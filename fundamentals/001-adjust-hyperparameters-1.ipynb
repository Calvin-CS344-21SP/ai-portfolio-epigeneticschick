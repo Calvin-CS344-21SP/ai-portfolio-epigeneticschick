{
 "cells": [
  {
   "cell_type": "markdown",
   "metadata": {},
   "source": [
    "# `001-adjust-hyperparameters-1`\n",
    "\n",
    "Task: change some basic hyperparameters of notebook 000"
   ]
  },
  {
   "cell_type": "markdown",
   "metadata": {},
   "source": [
    "## Setup"
   ]
  },
  {
   "cell_type": "code",
   "execution_count": 5,
   "metadata": {},
   "outputs": [],
   "source": [
    "# setup fastai if needed\n",
    "try: import fastbook\n",
    "except ImportError: import subprocess; subprocess.run(['pip','install','-Uq','fastbook'])\n",
    "\n",
    "# Import fastai code.\n",
    "from fastai.vision.all import *\n",
    "\n",
    "# Set a seed for reproducibility.\n",
    "set_seed(12345, reproducible=True)"
   ]
  },
  {
   "cell_type": "markdown",
   "metadata": {},
   "source": [
    "## Task"
   ]
  },
  {
   "cell_type": "markdown",
   "metadata": {},
   "source": [
    "Starting with the basic classifier of notebook `000`, report the effect on validation accuracy of each of the following changes:\n",
    "\n",
    "* Hold out 90% (instead of 20%) of the data for validation. (How many images will the training set have now?) How does the accuracy compare?\n",
    "* Use the *breed* of the dog/cat as the target (the breed is the `.name` of the file, up until the last underscore). *Peek at chapter 5 if you can't figure out how to do this.*\n",
    "\n",
    "For each, run two trials, each with a different seed value passed to `set_seed`."
   ]
  },
  {
   "cell_type": "markdown",
   "metadata": {},
   "source": [
    "## Solution"
   ]
  },
  {
   "cell_type": "code",
   "execution_count": 5,
   "metadata": {},
   "outputs": [],
   "source": [
    "# Your code here"
   ]
  },
  {
   "cell_type": "markdown",
   "metadata": {},
   "source": [
    "## Analysis"
   ]
  },
  {
   "cell_type": "markdown",
   "metadata": {},
   "source": [
    "**Report the effect of each change: (1) Is the original or modified classifier more accurate? (2) What is your confidence in that conclusion?**"
   ]
  }
 ],
 "metadata": {
  "kernelspec": {
   "display_name": "Python 3",
   "language": "python",
   "name": "python3"
  },
  "language_info": {
   "codemirror_mode": {
    "name": "ipython",
    "version": 3
   },
   "file_extension": ".py",
   "mimetype": "text/x-python",
   "name": "python",
   "nbconvert_exporter": "python",
   "pygments_lexer": "ipython3",
   "version": "3.8.5"
  }
 },
 "nbformat": 4,
 "nbformat_minor": 4
}
